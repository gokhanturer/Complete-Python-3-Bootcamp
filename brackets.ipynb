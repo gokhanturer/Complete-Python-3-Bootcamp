{
  "nbformat": 4,
  "nbformat_minor": 0,
  "metadata": {
    "colab": {
      "name": "Untitled0.ipynb",
      "provenance": [],
      "authorship_tag": "ABX9TyNCU4+AsVVfNE5pnCtpWyQN",
      "include_colab_link": true
    },
    "kernelspec": {
      "name": "python3",
      "display_name": "Python 3"
    }
  },
  "cells": [
    {
      "cell_type": "markdown",
      "metadata": {
        "id": "view-in-github",
        "colab_type": "text"
      },
      "source": [
        "<a href=\"https://colab.research.google.com/github/gokhanturer/Complete-Python-3-Bootcamp/blob/master/brackets.ipynb\" target=\"_parent\"><img src=\"https://colab.research.google.com/assets/colab-badge.svg\" alt=\"Open In Colab\"/></a>"
      ]
    },
    {
      "cell_type": "code",
      "metadata": {
        "id": "1raK9dN6lYKq"
      },
      "source": [
        "st = \"{[]}\"\n",
        "aa = {\"{\" : \"}\", \"[\" : \"]\", \"(\" : \")\"}\n",
        "bb = []\n",
        "k = 0\n",
        "for i in st :\n",
        "  bb.append(i)\n",
        "print(bb)\n",
        "for i in range(len(st)):\n",
        "  for i in bb :\n",
        "    if i != \"}\" and i != \"]\" and  i != \")\" :\n",
        "      if aa[i] in bb:\n",
        "        k = bb.index(aa[i])\n",
        "      if bb.index(i) == k-1 :\n",
        "        bb.pop(bb.index(i))\n",
        "        bb.pop(k-1)\n",
        "print(bb)\n",
        "if len(bb) == 0 :\n",
        "  print(\"True\")\n",
        "else :\n",
        "  print(\"False\")"
      ],
      "execution_count": null,
      "outputs": []
    },
    {
      "cell_type": "code",
      "metadata": {
        "id": "K-TqB4dHM6U9"
      },
      "source": [
        "girdi= \"CLARUSWAY\"\n",
        "b=[]\n",
        "\n",
        "mors={\n",
        "  'A': '.-', 'B': '-...', 'C': '-.-.', 'D': '-..', 'E': '.', 'F': '..-.',\n",
        "  'G': '--.', 'H': '....', 'I': '..', 'J': '.---', 'K': '-.-', 'L': '.-..',\n",
        "  'M': '--', 'N': '-.', 'O': '---', 'P': '.--.', 'Q': '--.-', 'R': '.-.',\n",
        "  'S': '...', 'T': '-', 'U': '..-', 'V': '...-', 'W': '.--', 'X': '-..-',\n",
        "  'Y': '-.--', 'Z': '--..', ' ': ' ', '0': '-----',\n",
        "  '1': '.----', '2': '..---', '3': '...--', '4': '....-', '5': '.....',\n",
        "  '6': '-....', '7': '--...', '8': '---..', '9': '----.',\n",
        "  '&': '.-...', \"'\": '.----.', '@': '.--.-.', ')': '-.--.-', '(': '-.--.',\n",
        "  ':': '---...', ',': '--..--', '=': '-...-', '!': '-.-.--', '.': '.-.-.-',\n",
        "  '-': '-....-', '+': '.-.-.', '\"': '.-..-.', '?': '..--..', '/': '-..-.'\n",
        "}\n",
        "for i in girdi:\n",
        "  b.append(mors[i])\n",
        "print(b)\n",
        "\n",
        "g = '? '.join([str(z) for z in b])\n",
        "  \n",
        "print(g)"
      ],
      "execution_count": null,
      "outputs": []
    }
  ]
}