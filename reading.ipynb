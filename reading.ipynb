{
  "nbformat": 4,
  "nbformat_minor": 0,
  "metadata": {
    "colab": {
      "name": "Untitled1.ipynb",
      "provenance": [],
      "authorship_tag": "ABX9TyP0UL3BFMhq88A0ljs24zcG",
      "include_colab_link": true
    },
    "kernelspec": {
      "name": "python3",
      "display_name": "Python 3"
    },
    "language_info": {
      "name": "python"
    }
  },
  "cells": [
    {
      "cell_type": "markdown",
      "metadata": {
        "id": "view-in-github",
        "colab_type": "text"
      },
      "source": [
        "<a href=\"https://colab.research.google.com/github/gokhanturer/Complete-Python-3-Bootcamp/blob/master/reading.ipynb\" target=\"_parent\"><img src=\"https://colab.research.google.com/assets/colab-badge.svg\" alt=\"Open In Colab\"/></a>"
      ]
    },
    {
      "cell_type": "markdown",
      "metadata": {
        "id": "7dyQFLOf0HdY"
      },
      "source": [
        "**Question 1**"
      ]
    },
    {
      "cell_type": "code",
      "metadata": {
        "id": "V_CWOodsoVrz",
        "colab": {
          "base_uri": "https://localhost:8080/"
        },
        "outputId": "8cf1bb8c-fd11-4f30-b695-b7217b398f75"
      },
      "source": [
        "def san(x):\n",
        " print(x+1)\n",
        "x=-2\n",
        "x=4\n",
        "san(12)"
      ],
      "execution_count": null,
      "outputs": [
        {
          "output_type": "stream",
          "text": [
            "13\n"
          ],
          "name": "stdout"
        }
      ]
    },
    {
      "cell_type": "markdown",
      "metadata": {
        "id": "oCV4o4m60YC9"
      },
      "source": [
        "**Question 2**"
      ]
    },
    {
      "cell_type": "code",
      "metadata": {
        "colab": {
          "base_uri": "https://localhost:8080/"
        },
        "id": "KqytJZOH2UXY",
        "outputId": "97d7fd99-8992-4433-9c1f-e3f23ef76796"
      },
      "source": [
        "def foo(fname, val):\n",
        " print(fname(val))\n",
        "foo(max, [1, 2, 3])\n",
        "foo(min, [1, 2, 3])"
      ],
      "execution_count": null,
      "outputs": [
        {
          "output_type": "stream",
          "text": [
            "3\n",
            "1\n"
          ],
          "name": "stdout"
        }
      ]
    },
    {
      "cell_type": "markdown",
      "metadata": {
        "id": "Bbxkw1jq0eEZ"
      },
      "source": [
        "**Question 3**"
      ]
    },
    {
      "cell_type": "code",
      "metadata": {
        "colab": {
          "base_uri": "https://localhost:8080/"
        },
        "id": "SdJkYfEZ4GK8",
        "outputId": "abccd93c-e037-4e06-e5b8-52b060077b3b"
      },
      "source": [
        "a=10\n",
        "globals()['a']=25\n",
        "print(a)"
      ],
      "execution_count": null,
      "outputs": [
        {
          "output_type": "stream",
          "text": [
            "25\n"
          ],
          "name": "stdout"
        }
      ]
    },
    {
      "cell_type": "markdown",
      "metadata": {
        "id": "zZqBEk8Q-cRC"
      },
      "source": [
        "**Question 5**"
      ]
    },
    {
      "cell_type": "code",
      "metadata": {
        "colab": {
          "base_uri": "https://localhost:8080/"
        },
        "id": "Ucu5F1jN_N_b",
        "outputId": "9fa51bea-dd10-4341-a1bf-cf53d6ee5413"
      },
      "source": [
        "f=lambda x:bool(x%2)\n",
        "print(f(20), f(21))"
      ],
      "execution_count": null,
      "outputs": [
        {
          "output_type": "stream",
          "text": [
            "False True\n"
          ],
          "name": "stdout"
        }
      ]
    },
    {
      "cell_type": "code",
      "metadata": {
        "id": "H-KaATorZ9Pu"
      },
      "source": [
        "sea = open(\"fishes.txt\", 'r')\n",
        "print(sea.read(33))  # displays the first 33 chars of the text\n",
        "print()\n",
        "print(sea.read(25))  # displays the next 25 chars of the text\n",
        "print()\n",
        "sea.seek(0)  # changes the stream (cursor) position to zero\n",
        "print(sea.read(33))  # displays the first 33 chars again\n",
        "print()\n",
        "print(sea.tell())  # returns the current stream (cursor) position\n",
        "sea.close()"
      ],
      "execution_count": null,
      "outputs": []
    },
    {
      "cell_type": "code",
      "metadata": {
        "id": "NV_mkGXnOYJ2"
      },
      "source": [
        "while True :\n",
        "    try :\n",
        "        index = int(input(\"Favori meyve indexini girer misin? : \"))\n",
        "        print(\"Benim favori meyvem {}'dir.\".format(fruits[index]))\n",
        "        break\n",
        "    except IndexError :\n",
        "        print(\"Böyle bir index bulunmamaktadır. Lütfen doğru giriş yapınız.\")\n",
        "    except ValueError :\n",
        "        print(\"Integer yani numeric bir değer giriniz. Tekrar deneyin.\")"
      ],
      "execution_count": null,
      "outputs": []
    },
    {
      "cell_type": "code",
      "metadata": {
        "id": "kUGKOmfkYtdQ"
      },
      "source": [
        "fruits = [\"banana\", \"mango\", \"pear\", \"apple\", \"kiwi\", \"grape\"]\n",
        "count=3\n",
        "while count>0:\n",
        "    try :\n",
        "        index = int(input(\"Favori meyve indexini girer misin? : \"))\n",
        "        print(\"Benim favori meyvem {}'dir.\".format(fruits[index]))\n",
        "        break\n",
        "    except IndexError :\n",
        "        c -= 1\n",
        "        print(f\"Böyle bir index bulunmamaktadır. {count} hakkiniz kaldi.\")\n",
        "        \n",
        "    except ValueError :\n",
        "        c -= 1\n",
        "        print(f\"Integer yani numeric bir değer giriniz.{count} hakkiniz kaldi.\")\n",
        "       \n",
        "    else:\n",
        "      print(\"Tebrikler.. Dogru giris yaptiniz..\")\n",
        "      break\n",
        "    finally:\n",
        "      print(\"Meyvelerim tazedir afiyet ossun\")\n",
        "      "
      ],
      "execution_count": null,
      "outputs": []
    },
    {
      "cell_type": "code",
      "metadata": {
        "id": "OvCV_WCJg8Yc"
      },
      "source": [
        "sea = open(\"fishes.txt\", 'r')\n",
        "print(sea.readline())  # displays the first line of the text\n",
        "print(sea.readline())  # displays the second line\n",
        "print(sea.readline())  # each time it goes to the new line\n",
        "sea.close()"
      ],
      "execution_count": null,
      "outputs": []
    },
    {
      "cell_type": "code",
      "metadata": {
        "colab": {
          "base_uri": "https://localhost:8080/"
        },
        "id": "AkoAjFc7vYeL",
        "outputId": "f7a7f863-87ee-4336-83d6-fee935981d44"
      },
      "source": [
        "fruits = [\"Banana\\n\", \"Mango\\n\", \"Pear\\n\", \"Apple\\n\", \"Kiwi\\n\", \"Grape\\n\"]\n",
        "with open(\"fruits.txt\", \"w\", encoding = \"utf-8\") as f:\n",
        "    for i in fruits:\n",
        "        f.write(i)\n",
        "with open(\"fruits.txt\", \"r\", encoding = \"utf-8\") as f:\n",
        "    print(f.read())\n",
        "    "
      ],
      "execution_count": 3,
      "outputs": [
        {
          "output_type": "stream",
          "text": [
            "Banana\n",
            "Mango\n",
            "Pear\n",
            "Apple\n",
            "Kiwi\n",
            "Grape\n",
            "\n"
          ],
          "name": "stdout"
        }
      ]
    },
    {
      "cell_type": "code",
      "metadata": {
        "id": "CZGNSGrCvhlC"
      },
      "source": [
        ""
      ],
      "execution_count": null,
      "outputs": []
    },
    {
      "cell_type": "code",
      "metadata": {
        "id": "9anrrIb9vhnK"
      },
      "source": [
        "with open(\"dummy_file.txt\", 'w', encoding=\"utf-8\") as file:\n",
        "    file.write('My first sentence')\n",
        "    file.write('My second sentence,')\n",
        "    file.write('My third sentence\\n')\n",
        "    file.write('My fourth sentence ')\n",
        "    file.write('My last sentence')\n",
        "with open(\"dummy_file.txt\", 'r', encoding=\"utf-8\") as file:\n",
        "    print(file.read())\n",
        "    "
      ],
      "execution_count": null,
      "outputs": []
    },
    {
      "cell_type": "code",
      "metadata": {
        "id": "h4Gz-mjGvjAj"
      },
      "source": [
        "with open(\"benim_ilk_dosyam.txt\", \"w\", encoding = \"utf-8\") as dosyam :\n",
        "    dosyam.write(\"bu benim ilk satırım\")\n",
        "    "
      ],
      "execution_count": null,
      "outputs": []
    },
    {
      "cell_type": "code",
      "metadata": {
        "colab": {
          "base_uri": "https://localhost:8080/",
          "height": 130
        },
        "id": "WPVnQIOJvtxC",
        "outputId": "4c65b7f9-dd3c-4a34-8c7b-19bb4687da6a"
      },
      "source": [
        "with open(\"Rumi.txt\", 'r', encoding=\"utf-8\") as f: \n",
        "  for line in f:\n",
        "    print(line)\n",
        "f.close()\n",
        "I want to sing.\n",
        "Likte the birds sing,\n",
        "Not worrying about\n",
        "Who hears or\n",
        "What they think"
      ],
      "execution_count": 4,
      "outputs": [
        {
          "output_type": "error",
          "ename": "SyntaxError",
          "evalue": "ignored",
          "traceback": [
            "\u001b[0;36m  File \u001b[0;32m\"<ipython-input-4-058420511de1>\"\u001b[0;36m, line \u001b[0;32m5\u001b[0m\n\u001b[0;31m    I want to sing.\u001b[0m\n\u001b[0m         ^\u001b[0m\n\u001b[0;31mSyntaxError\u001b[0m\u001b[0;31m:\u001b[0m invalid syntax\n"
          ]
        }
      ]
    },
    {
      "cell_type": "code",
      "metadata": {
        "colab": {
          "base_uri": "https://localhost:8080/"
        },
        "id": "dp3vGu-pwJBS",
        "outputId": "0a3b9595-0b57-49eb-80d6-1504e00a178d"
      },
      "source": [
        "f = open(\"rumi.txt\", \"x\") # create file with \"x\"\n",
        "f.write(\"I want to sing \\nLike the birds,\\nNot worrying about \\nWho hears or \\nWhat they think\") # write on rumi.txt\n",
        "f = open(\"rumi.txt\", \"r\") # command for reading rumi.txt\n",
        "print(f.readlines())"
      ],
      "execution_count": 5,
      "outputs": [
        {
          "output_type": "stream",
          "text": [
            "['I want to sing \\n', 'Like the birds,\\n', 'Not worrying about \\n', 'Who hears or \\n', 'What they think']\n"
          ],
          "name": "stdout"
        }
      ]
    },
    {
      "cell_type": "code",
      "metadata": {
        "id": "_HwsWQOBwNYy"
      },
      "source": [
        ""
      ],
      "execution_count": null,
      "outputs": []
    },
    {
      "cell_type": "code",
      "metadata": {
        "id": "KzbNPKEEy25J"
      },
      "source": [
        ""
      ],
      "execution_count": null,
      "outputs": []
    },
    {
      "cell_type": "code",
      "metadata": {
        "id": "4-ZUsA1AwJDH"
      },
      "source": [
        ""
      ],
      "execution_count": null,
      "outputs": []
    }
  ]
}